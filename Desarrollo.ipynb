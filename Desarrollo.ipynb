{
 "cells": [
  {
   "cell_type": "code",
   "execution_count": 1,
   "id": "3687d22d",
   "metadata": {},
   "outputs": [],
   "source": [
    "import glob\n",
    "import os\n",
    "from os import path\n",
    "import codecs"
   ]
  },
  {
   "cell_type": "code",
   "execution_count": 2,
   "id": "235ca416",
   "metadata": {},
   "outputs": [],
   "source": [
    "if not path.exists('Final'):\n",
    "    os.mkdir('Final')\n",
    "if not path.exists('Final/Data'):\n",
    "    os.mkdir('Final/Data')"
   ]
  },
  {
   "cell_type": "code",
   "execution_count": 3,
   "id": "a52580d1",
   "metadata": {},
   "outputs": [],
   "source": [
    "if not path.exists('Temp'):\n",
    "    os.mkdir('Temp')\n",
    "if not path.exists('Temp/Data'):\n",
    "    os.mkdir('Temp/Data')"
   ]
  },
  {
   "cell_type": "code",
   "execution_count": 4,
   "id": "3b34246f",
   "metadata": {},
   "outputs": [],
   "source": [
    "if not path.exists('Config/Profesores.txt'):\n",
    "    print('Sin archivo de configuracion')\n",
    "    exit(1)"
   ]
  },
  {
   "cell_type": "code",
   "execution_count": 5,
   "id": "7bf3ab90",
   "metadata": {},
   "outputs": [],
   "source": [
    "if not path.exists('Config/Diccionario.txt'):\n",
    "    print('Sin archivo del diccionario')\n",
    "    exit(1)"
   ]
  },
  {
   "cell_type": "code",
   "execution_count": 6,
   "id": "b3b4133f",
   "metadata": {},
   "outputs": [
    {
     "data": {
      "text/plain": [
       "['Florez, C', 'Cabrera, A', 'Avila, C', 'Segura Delgado, M.A', 'Alejandra']"
      ]
     },
     "execution_count": 6,
     "metadata": {},
     "output_type": "execute_result"
    }
   ],
   "source": [
    "with open('Config/Profesores.txt','r', encoding='utf-8') as fprofe:\n",
    "    Lista_Profesores = [linea.rstrip() for linea in fprofe]\n",
    "    \n",
    "Lista_Profesores"
   ]
  },
  {
   "cell_type": "code",
   "execution_count": 7,
   "id": "c16d86b5",
   "metadata": {},
   "outputs": [
    {
     "data": {
      "text/plain": [
       "['Florez, C', 'Cabrera, A', 'Avila, C', 'Segura, M', 'Alejandra']"
      ]
     },
     "execution_count": 7,
     "metadata": {},
     "output_type": "execute_result"
    }
   ],
   "source": [
    "with open('Config/Diccionario.txt','r', encoding='utf-8') as fdict:\n",
    "    Dict_Profesores = [linea.rstrip() for linea in fdict]\n",
    "    \n",
    "Dict_Profesores"
   ]
  },
  {
   "cell_type": "code",
   "execution_count": 8,
   "id": "acbe3928",
   "metadata": {},
   "outputs": [],
   "source": [
    "if len(Lista_Profesores) != len(Dict_Profesores):\n",
    "    print('Diccionario imcompleto')\n",
    "    exit(1)"
   ]
  },
  {
   "cell_type": "code",
   "execution_count": 9,
   "id": "f36f7a95",
   "metadata": {},
   "outputs": [
    {
     "data": {
      "text/plain": [
       "{'Florez, C': 'Florez, C',\n",
       " 'Cabrera, A': 'Cabrera, A',\n",
       " 'Avila, C': 'Avila, C',\n",
       " 'Segura Delgado, M.A': 'Segura, M',\n",
       " 'Alejandra': 'Alejandra'}"
      ]
     },
     "execution_count": 9,
     "metadata": {},
     "output_type": "execute_result"
    }
   ],
   "source": [
    "Dict1 = dict(zip(Lista_Profesores,Dict_Profesores))\n",
    "# Creamos diccionario\n",
    "Dict1"
   ]
  },
  {
   "cell_type": "code",
   "execution_count": 10,
   "id": "ff3965a1",
   "metadata": {},
   "outputs": [],
   "source": [
    "def CheckAuthor(author, biblines):\n",
    "        \n",
    "    NRef = 0\n",
    "            \n",
    "    for l in biblines:\n",
    "        isinfile = l.find(author)\n",
    "                \n",
    "        if isinfile != -1:\n",
    "            NRef = 1\n",
    "               \n",
    "    return NRef"
   ]
  },
  {
   "cell_type": "code",
   "execution_count": 11,
   "id": "f4b9ae49",
   "metadata": {},
   "outputs": [],
   "source": [
    "Files = []\n",
    "\n",
    "for f in glob.glob('Data/*.bib'):\n",
    "    file = open(f, 'r', encoding='utf-8')\n",
    "    Files.append(file)\n",
    "    \n",
    "#Files[0].name    \n",
    "    \n",
    "for f in Files:\n",
    "    \n",
    "    #print('Creando:', f.name)\n",
    "    \n",
    "    biblines = f.readlines()\n",
    "    \n",
    "    Autor_encontrado = []\n",
    "    Autor_noencontrado = []\n",
    "    \n",
    "    for author in Lista_Profesores:\n",
    "        NRef = CheckAuthor(author,biblines)\n",
    "    \n",
    "        if NRef == 1:\n",
    "            Autor_encontrado.append(Dict1[author])\n",
    "        else:\n",
    "            Autor_noencontrado.append(Dict1[author])\n",
    "        \n",
    "    final_authors='\\t author={'\n",
    "    \n",
    "    for i,name in enumerate(Autor_encontrado):\n",
    "        if i == 0:\n",
    "            final_authors+=name\n",
    "        else:\n",
    "            final_authors+=', '+name\n",
    "    \n",
    "    encontrado = False\n",
    "    for l in biblines:\n",
    "        CMS = l.find('CMS')\n",
    "        if CMS != -1 and encontrado == False:\n",
    "            encontrado = True\n",
    "            final_authors += ', CMS Collaboration'\n",
    "    \n",
    "    final_authors+='},\\n'\n",
    "    \n",
    "    #print(final_authors)\n",
    "\n",
    "    # Escribimos nueva bibliografica\n",
    "    #output = open(\"Final/\"+f.name, \"w\")\n",
    "    with codecs.open(\"Final/\"+f.name, \"w\", \"utf-8\") as output:\n",
    "    \n",
    "        for l in biblines:\n",
    "            author_lines = l.find('author')\n",
    "            if author_lines != -1:\n",
    "                output.write(final_authors) # Cambiamos lista de autores\n",
    "            else:\n",
    "                output.write(l)\n",
    "        \n",
    "    #output.close()\n",
    "    \n",
    "    #output1 = open(\"Temp/\"+f.name, \"w\")\n",
    "    with codecs.open(\"Temp/\"+f.name, \"w\", \"utf-8\") as output1:\n",
    "    \n",
    "        for i, name in enumerate(Autor_noencontrado):\n",
    "            output1.write(name+'\\n')\n",
    "    \n",
    "    #output1.close()"
   ]
  },
  {
   "cell_type": "code",
   "execution_count": null,
   "id": "1e9e47ae",
   "metadata": {},
   "outputs": [],
   "source": []
  }
 ],
 "metadata": {
  "kernelspec": {
   "display_name": "Python 3 (ipykernel)",
   "language": "python",
   "name": "python3"
  },
  "language_info": {
   "codemirror_mode": {
    "name": "ipython",
    "version": 3
   },
   "file_extension": ".py",
   "mimetype": "text/x-python",
   "name": "python",
   "nbconvert_exporter": "python",
   "pygments_lexer": "ipython3",
   "version": "3.9.12"
  }
 },
 "nbformat": 4,
 "nbformat_minor": 5
}
