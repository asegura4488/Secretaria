{
 "cells": [
  {
   "cell_type": "code",
   "execution_count": 10,
   "id": "3687d22d",
   "metadata": {},
   "outputs": [],
   "source": [
    "import glob\n",
    "import os\n",
    "from os import path"
   ]
  },
  {
   "cell_type": "code",
   "execution_count": 11,
   "id": "235ca416",
   "metadata": {},
   "outputs": [],
   "source": [
    "if not path.exists('Final'):\n",
    "    os.mkdir('Final')\n",
    "if not path.exists('Final/Data'):\n",
    "    os.mkdir('Final/Data')"
   ]
  },
  {
   "cell_type": "code",
   "execution_count": 12,
   "id": "3b34246f",
   "metadata": {},
   "outputs": [],
   "source": [
    "if not path.exists('Config/Profesores.txt'):\n",
    "    print('Sin archivo de configuración')\n",
    "    exit(1)"
   ]
  },
  {
   "cell_type": "code",
   "execution_count": 13,
   "id": "7bf3ab90",
   "metadata": {},
   "outputs": [],
   "source": [
    "if not path.exists('Config/Diccionario.txt'):\n",
    "    print('Sin archivo del diccionario')\n",
    "    exit(1)"
   ]
  },
  {
   "cell_type": "code",
   "execution_count": 14,
   "id": "b3b4133f",
   "metadata": {},
   "outputs": [
    {
     "data": {
      "text/plain": [
       "['Florez, C', 'Cabrera, A', 'Avila, C', 'Segura Delgado, M.A']"
      ]
     },
     "execution_count": 14,
     "metadata": {},
     "output_type": "execute_result"
    }
   ],
   "source": [
    "with open('Config/Profesores.txt','r') as fprofe:\n",
    "    Lista_Profesores = [linea.rstrip() for linea in fprofe]\n",
    "    \n",
    "Lista_Profesores"
   ]
  },
  {
   "cell_type": "code",
   "execution_count": 15,
   "id": "c16d86b5",
   "metadata": {},
   "outputs": [
    {
     "data": {
      "text/plain": [
       "['Florez, C', 'Cabrera, A', 'Avila, C', 'Segura, M']"
      ]
     },
     "execution_count": 15,
     "metadata": {},
     "output_type": "execute_result"
    }
   ],
   "source": [
    "with open('Config/Diccionario.txt','r') as fdict:\n",
    "    Dict_Profesores = [linea.rstrip() for linea in fdict]\n",
    "    \n",
    "Dict_Profesores"
   ]
  },
  {
   "cell_type": "code",
   "execution_count": 19,
   "id": "acbe3928",
   "metadata": {},
   "outputs": [],
   "source": [
    "if len(Lista_Profesores) != len(Dict_Profesores):\n",
    "    print('Diccionario imcompleto')\n",
    "    exit(1)"
   ]
  },
  {
   "cell_type": "code",
   "execution_count": 16,
   "id": "f36f7a95",
   "metadata": {},
   "outputs": [
    {
     "data": {
      "text/plain": [
       "{'Florez, C': 'Florez, C',\n",
       " 'Cabrera, A': 'Cabrera, A',\n",
       " 'Avila, C': 'Avila, C',\n",
       " 'Segura Delgado, M.A': 'Segura, M'}"
      ]
     },
     "execution_count": 16,
     "metadata": {},
     "output_type": "execute_result"
    }
   ],
   "source": [
    "Dict1 = dict(zip(Lista_Profesores,Dict_Profesores))\n",
    "# Creamos diccionario\n",
    "Dict1"
   ]
  },
  {
   "cell_type": "code",
   "execution_count": 17,
   "id": "ff3965a1",
   "metadata": {},
   "outputs": [],
   "source": [
    "def CheckAuthor(author, biblines):\n",
    "        \n",
    "    NRef = 0\n",
    "            \n",
    "    for l in biblines:\n",
    "        isinfile = l.find(author)\n",
    "                \n",
    "        if isinfile != -1:\n",
    "            NRef = 1\n",
    "               \n",
    "    return NRef"
   ]
  },
  {
   "cell_type": "code",
   "execution_count": 18,
   "id": "f4b9ae49",
   "metadata": {},
   "outputs": [
    {
     "name": "stdout",
     "output_type": "stream",
     "text": [
      "Creando: Data/article1.bib\n",
      "Creando: Data/article2.bib\n",
      "Articulo: Data/article2.bib No Encontrado: Segura Delgado, M.A\n",
      "Creando: Data/article3.bib\n",
      "Articulo: Data/article3.bib No Encontrado: Segura Delgado, M.A\n"
     ]
    }
   ],
   "source": [
    "Files = []\n",
    "for f in glob.glob('Data/*.bib'):\n",
    "    file = open(f, \"r\")\n",
    "    Files.append(file)\n",
    "    \n",
    "#Files[0].name    \n",
    "    \n",
    "for f in Files:\n",
    "    \n",
    "    print('Creando:', f.name)\n",
    "    \n",
    "    biblines = f.readlines()\n",
    "    \n",
    "    Autores_Andes = []\n",
    "    \n",
    "    output = open(\"Final/\"+f.name, \"w\")\n",
    "    \n",
    "    for author in Lista_Profesores:\n",
    "        \n",
    "        NRef = CheckAuthor(author,biblines)\n",
    "    \n",
    "        if NRef == 1:\n",
    "            Autores_Andes.append(Dict1[author])\n",
    "        else:\n",
    "            print('Articulo:', f.name, 'No Encontrado:',author)\n",
    "    \n",
    "    for i, name in enumerate(Autores_Andes):\n",
    "        if i==0:\n",
    "            output.write(name)\n",
    "        else:\n",
    "            output.write(', '+name)\n",
    "        \n",
    "    output.close()\n",
    "    \n",
    "    #print(Autores_Andes)"
   ]
  },
  {
   "cell_type": "code",
   "execution_count": null,
   "id": "91445498",
   "metadata": {},
   "outputs": [],
   "source": []
  },
  {
   "cell_type": "code",
   "execution_count": null,
   "id": "a4813c25",
   "metadata": {},
   "outputs": [],
   "source": []
  }
 ],
 "metadata": {
  "kernelspec": {
   "display_name": "Python 3 (ipykernel)",
   "language": "python",
   "name": "python3"
  },
  "language_info": {
   "codemirror_mode": {
    "name": "ipython",
    "version": 3
   },
   "file_extension": ".py",
   "mimetype": "text/x-python",
   "name": "python",
   "nbconvert_exporter": "python",
   "pygments_lexer": "ipython3",
   "version": "3.9.12"
  }
 },
 "nbformat": 4,
 "nbformat_minor": 5
}
